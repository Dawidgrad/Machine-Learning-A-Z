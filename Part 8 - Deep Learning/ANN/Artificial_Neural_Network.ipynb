{
  "nbformat": 4,
  "nbformat_minor": 0,
  "metadata": {
    "colab": {
      "name": "Artificial Neural Network.ipynb",
      "version": "0.3.2",
      "provenance": [],
      "collapsed_sections": []
    },
    "kernelspec": {
      "name": "python3",
      "display_name": "Python 3"
    }
  },
  "cells": [
    {
      "metadata": {
        "id": "v8Zz2cA63ZIA",
        "colab_type": "text"
      },
      "cell_type": "markdown",
      "source": [
        "### Part 1 - Data Preprocessing"
      ]
    },
    {
      "metadata": {
        "id": "BZO52g4__VNl",
        "colab_type": "code",
        "colab": {
          "base_uri": "https://localhost:8080/",
          "height": 139
        },
        "outputId": "5797a31e-6c7d-415e-a151-13404570e8ab"
      },
      "cell_type": "code",
      "source": [
        "import numpy as np\n",
        "import matplotlib.pyplot as plt\n",
        "import pandas as pd\n",
        "\n",
        "# Importing the dataset\n",
        "url = 'https://raw.githubusercontent.com/Dawidgrad/Machine-Learning-A-Z/master/Part%208%20-%20Deep%20Learning/ANN/Churn_Modelling.csv'\n",
        "dataset = pd.read_csv(url)\n",
        "X = dataset.iloc[:, 3:13].values\n",
        "y = dataset.iloc[:, 13].values\n",
        "\n",
        "# Encoding the categorical data\n",
        "from sklearn.preprocessing import LabelEncoder, OneHotEncoder\n",
        "\n",
        "labelencoder_X_country = LabelEncoder()\n",
        "X[:, 1] = labelencoder_X_country.fit_transform(X[:, 1])\n",
        "labelencoder_X_gender = LabelEncoder()\n",
        "X[:, 2] = labelencoder_X_gender.fit_transform(X[:, 2])\n",
        "\n",
        "onehotencoder = OneHotEncoder(categorical_features = [1])\n",
        "X = onehotencoder.fit_transform(X).toarray()\n",
        "X = X[:, 1:]\n",
        "  \n",
        "# Splitting the dataset into the Training set and Test set\n",
        "from sklearn.model_selection import train_test_split\n",
        "\n",
        "X_train, X_test, y_train, y_test = train_test_split(X, y, test_size = 0.20, random_state = 0)\n",
        "\n",
        "# Feature Scaling\n",
        "from sklearn.preprocessing import StandardScaler\n",
        "\n",
        "scaler = StandardScaler()\n",
        "X_train = scaler.fit_transform(X_train)\n",
        "X_test = scaler.transform(X_test)"
      ],
      "execution_count": 41,
      "outputs": [
        {
          "output_type": "stream",
          "text": [
            "/usr/local/lib/python3.6/dist-packages/sklearn/preprocessing/_encoders.py:371: FutureWarning: The handling of integer data will change in version 0.22. Currently, the categories are determined based on the range [0, max(values)], while in the future they will be determined based on the unique values.\n",
            "If you want the future behaviour and silence this warning, you can specify \"categories='auto'\".\n",
            "In case you used a LabelEncoder before this OneHotEncoder to convert the categories to integers, then you can now use the OneHotEncoder directly.\n",
            "  warnings.warn(msg, FutureWarning)\n",
            "/usr/local/lib/python3.6/dist-packages/sklearn/preprocessing/_encoders.py:392: DeprecationWarning: The 'categorical_features' keyword is deprecated in version 0.20 and will be removed in 0.22. You can use the ColumnTransformer instead.\n",
            "  \"use the ColumnTransformer instead.\", DeprecationWarning)\n"
          ],
          "name": "stderr"
        }
      ]
    },
    {
      "metadata": {
        "id": "GdoOiG9CGRk2",
        "colab_type": "text"
      },
      "cell_type": "markdown",
      "source": [
        "###Part 2 - Creating the ANN"
      ]
    },
    {
      "metadata": {
        "id": "XlPpo6vzGdfY",
        "colab_type": "code",
        "colab": {
          "base_uri": "https://localhost:8080/",
          "height": 3451
        },
        "outputId": "470af6d3-f75e-4f7c-9902-58e10f1356a4"
      },
      "cell_type": "code",
      "source": [
        "import keras\n",
        "from keras.models import Sequential\n",
        "from keras.layers import Dense\n",
        "\n",
        "# Initialising the ANN\n",
        "classifier = Sequential()\n",
        "\n",
        "# Adding the input layer and the first hidden layer\n",
        "classifier.add(Dense(units = 6, kernel_initializer = 'uniform', activation = 'relu', input_dim = 11))\n",
        "\n",
        "# Adding the second hidden layer\n",
        "classifier.add(Dense(units = 6, kernel_initializer = 'uniform', activation = 'relu'))\n",
        "\n",
        "# Adding the output layer\n",
        "classifier.add(Dense(units = 1, kernel_initializer = 'uniform', activation = 'sigmoid'))\n",
        "\n",
        "# Compiling the ANN\n",
        "classifier.compile(optimizer = 'adam', loss = 'binary_crossentropy', metrics = ['accuracy'])\n",
        "\n",
        "# Fitting the Ann to the Training set\n",
        "classifier.fit(X_train, y_train, batch_size = 10, nb_epoch = 100)"
      ],
      "execution_count": 42,
      "outputs": [
        {
          "output_type": "stream",
          "text": [
            "/usr/local/lib/python3.6/dist-packages/ipykernel_launcher.py:21: UserWarning: The `nb_epoch` argument in `fit` has been renamed `epochs`.\n"
          ],
          "name": "stderr"
        },
        {
          "output_type": "stream",
          "text": [
            "Epoch 1/100\n",
            "8000/8000 [==============================] - 1s 134us/step - loss: 0.4838 - acc: 0.7954\n",
            "Epoch 2/100\n",
            "8000/8000 [==============================] - 1s 94us/step - loss: 0.4144 - acc: 0.7960\n",
            "Epoch 3/100\n",
            "8000/8000 [==============================] - 1s 95us/step - loss: 0.4042 - acc: 0.8131\n",
            "Epoch 4/100\n",
            "8000/8000 [==============================] - 1s 96us/step - loss: 0.3943 - acc: 0.8307\n",
            "Epoch 5/100\n",
            "8000/8000 [==============================] - 1s 98us/step - loss: 0.3857 - acc: 0.8289\n",
            "Epoch 6/100\n",
            "8000/8000 [==============================] - 1s 97us/step - loss: 0.3793 - acc: 0.8402\n",
            "Epoch 7/100\n",
            "8000/8000 [==============================] - 1s 98us/step - loss: 0.3743 - acc: 0.8452\n",
            "Epoch 8/100\n",
            "8000/8000 [==============================] - 1s 96us/step - loss: 0.3691 - acc: 0.8487\n",
            "Epoch 9/100\n",
            "8000/8000 [==============================] - 1s 97us/step - loss: 0.3671 - acc: 0.8501\n",
            "Epoch 10/100\n",
            "8000/8000 [==============================] - 1s 95us/step - loss: 0.3652 - acc: 0.8510\n",
            "Epoch 11/100\n",
            "8000/8000 [==============================] - 1s 98us/step - loss: 0.3628 - acc: 0.8521\n",
            "Epoch 12/100\n",
            "8000/8000 [==============================] - 1s 100us/step - loss: 0.3618 - acc: 0.8526\n",
            "Epoch 13/100\n",
            "8000/8000 [==============================] - 1s 97us/step - loss: 0.3601 - acc: 0.8526\n",
            "Epoch 14/100\n",
            "8000/8000 [==============================] - 1s 96us/step - loss: 0.3588 - acc: 0.8536\n",
            "Epoch 15/100\n",
            "8000/8000 [==============================] - 1s 97us/step - loss: 0.3584 - acc: 0.8554\n",
            "Epoch 16/100\n",
            "8000/8000 [==============================] - 1s 97us/step - loss: 0.3578 - acc: 0.8554\n",
            "Epoch 17/100\n",
            "8000/8000 [==============================] - 1s 95us/step - loss: 0.3568 - acc: 0.8560\n",
            "Epoch 18/100\n",
            "8000/8000 [==============================] - 1s 97us/step - loss: 0.3558 - acc: 0.8555\n",
            "Epoch 19/100\n",
            "8000/8000 [==============================] - 1s 97us/step - loss: 0.3557 - acc: 0.8560\n",
            "Epoch 20/100\n",
            "8000/8000 [==============================] - 1s 96us/step - loss: 0.3565 - acc: 0.8532\n",
            "Epoch 21/100\n",
            "8000/8000 [==============================] - 1s 95us/step - loss: 0.3548 - acc: 0.8547\n",
            "Epoch 22/100\n",
            "8000/8000 [==============================] - 1s 110us/step - loss: 0.3540 - acc: 0.8559\n",
            "Epoch 23/100\n",
            "8000/8000 [==============================] - 1s 109us/step - loss: 0.3538 - acc: 0.8565\n",
            "Epoch 24/100\n",
            "8000/8000 [==============================] - 1s 110us/step - loss: 0.3533 - acc: 0.8549\n",
            "Epoch 25/100\n",
            "8000/8000 [==============================] - 1s 105us/step - loss: 0.3533 - acc: 0.8585\n",
            "Epoch 26/100\n",
            "8000/8000 [==============================] - 1s 109us/step - loss: 0.3531 - acc: 0.8557\n",
            "Epoch 27/100\n",
            "8000/8000 [==============================] - 1s 106us/step - loss: 0.3526 - acc: 0.8559\n",
            "Epoch 28/100\n",
            "8000/8000 [==============================] - 1s 107us/step - loss: 0.3512 - acc: 0.8571\n",
            "Epoch 29/100\n",
            "8000/8000 [==============================] - 1s 106us/step - loss: 0.3511 - acc: 0.8576\n",
            "Epoch 30/100\n",
            "8000/8000 [==============================] - 1s 107us/step - loss: 0.3514 - acc: 0.8576\n",
            "Epoch 31/100\n",
            "8000/8000 [==============================] - 1s 106us/step - loss: 0.3511 - acc: 0.8572\n",
            "Epoch 32/100\n",
            "8000/8000 [==============================] - 1s 107us/step - loss: 0.3505 - acc: 0.8606\n",
            "Epoch 33/100\n",
            "8000/8000 [==============================] - 1s 109us/step - loss: 0.3496 - acc: 0.8585\n",
            "Epoch 34/100\n",
            "8000/8000 [==============================] - 1s 94us/step - loss: 0.3493 - acc: 0.8597\n",
            "Epoch 35/100\n",
            "8000/8000 [==============================] - 1s 95us/step - loss: 0.3494 - acc: 0.8567\n",
            "Epoch 36/100\n",
            "8000/8000 [==============================] - 1s 96us/step - loss: 0.3493 - acc: 0.8582\n",
            "Epoch 37/100\n",
            "8000/8000 [==============================] - 1s 93us/step - loss: 0.3484 - acc: 0.8596\n",
            "Epoch 38/100\n",
            "8000/8000 [==============================] - 1s 96us/step - loss: 0.3475 - acc: 0.8590\n",
            "Epoch 39/100\n",
            "8000/8000 [==============================] - 1s 94us/step - loss: 0.3471 - acc: 0.8567\n",
            "Epoch 40/100\n",
            "8000/8000 [==============================] - 1s 97us/step - loss: 0.3470 - acc: 0.8611\n",
            "Epoch 41/100\n",
            "8000/8000 [==============================] - 1s 95us/step - loss: 0.3460 - acc: 0.8604\n",
            "Epoch 42/100\n",
            "8000/8000 [==============================] - 1s 94us/step - loss: 0.3453 - acc: 0.8599\n",
            "Epoch 43/100\n",
            "8000/8000 [==============================] - 1s 96us/step - loss: 0.3456 - acc: 0.8589\n",
            "Epoch 44/100\n",
            "8000/8000 [==============================] - 1s 95us/step - loss: 0.3444 - acc: 0.8590\n",
            "Epoch 45/100\n",
            "8000/8000 [==============================] - 1s 97us/step - loss: 0.3437 - acc: 0.8592\n",
            "Epoch 46/100\n",
            "8000/8000 [==============================] - 1s 96us/step - loss: 0.3428 - acc: 0.8611\n",
            "Epoch 47/100\n",
            "8000/8000 [==============================] - 1s 96us/step - loss: 0.3433 - acc: 0.8605\n",
            "Epoch 48/100\n",
            "8000/8000 [==============================] - 1s 95us/step - loss: 0.3427 - acc: 0.8601\n",
            "Epoch 49/100\n",
            "8000/8000 [==============================] - 1s 95us/step - loss: 0.3425 - acc: 0.8614\n",
            "Epoch 50/100\n",
            "8000/8000 [==============================] - 1s 97us/step - loss: 0.3416 - acc: 0.8579\n",
            "Epoch 51/100\n",
            "8000/8000 [==============================] - 1s 93us/step - loss: 0.3418 - acc: 0.8607\n",
            "Epoch 52/100\n",
            "8000/8000 [==============================] - 1s 94us/step - loss: 0.3415 - acc: 0.8596\n",
            "Epoch 53/100\n",
            "8000/8000 [==============================] - 1s 95us/step - loss: 0.3411 - acc: 0.8612\n",
            "Epoch 54/100\n",
            "8000/8000 [==============================] - 1s 96us/step - loss: 0.3406 - acc: 0.8607\n",
            "Epoch 55/100\n",
            "8000/8000 [==============================] - 1s 94us/step - loss: 0.3412 - acc: 0.8619\n",
            "Epoch 56/100\n",
            "8000/8000 [==============================] - 1s 98us/step - loss: 0.3409 - acc: 0.8610\n",
            "Epoch 57/100\n",
            "8000/8000 [==============================] - 1s 95us/step - loss: 0.3413 - acc: 0.8616\n",
            "Epoch 58/100\n",
            "8000/8000 [==============================] - 1s 95us/step - loss: 0.3407 - acc: 0.8612\n",
            "Epoch 59/100\n",
            "8000/8000 [==============================] - 1s 98us/step - loss: 0.3412 - acc: 0.8604\n",
            "Epoch 60/100\n",
            "8000/8000 [==============================] - 1s 94us/step - loss: 0.3409 - acc: 0.8582\n",
            "Epoch 61/100\n",
            "8000/8000 [==============================] - 1s 97us/step - loss: 0.3398 - acc: 0.8604\n",
            "Epoch 62/100\n",
            "8000/8000 [==============================] - 1s 97us/step - loss: 0.3401 - acc: 0.8595\n",
            "Epoch 63/100\n",
            "8000/8000 [==============================] - 1s 94us/step - loss: 0.3398 - acc: 0.8611\n",
            "Epoch 64/100\n",
            "8000/8000 [==============================] - 1s 96us/step - loss: 0.3394 - acc: 0.8601\n",
            "Epoch 65/100\n",
            "8000/8000 [==============================] - 1s 95us/step - loss: 0.3407 - acc: 0.8596\n",
            "Epoch 66/100\n",
            "8000/8000 [==============================] - 1s 96us/step - loss: 0.3393 - acc: 0.8622\n",
            "Epoch 67/100\n",
            "8000/8000 [==============================] - 1s 98us/step - loss: 0.3392 - acc: 0.8607\n",
            "Epoch 68/100\n",
            "8000/8000 [==============================] - 1s 94us/step - loss: 0.3394 - acc: 0.8612\n",
            "Epoch 69/100\n",
            "8000/8000 [==============================] - 1s 94us/step - loss: 0.3389 - acc: 0.8600\n",
            "Epoch 70/100\n",
            "8000/8000 [==============================] - 1s 96us/step - loss: 0.3396 - acc: 0.8610\n",
            "Epoch 71/100\n",
            "8000/8000 [==============================] - 1s 95us/step - loss: 0.3386 - acc: 0.8591\n",
            "Epoch 72/100\n",
            "8000/8000 [==============================] - 1s 95us/step - loss: 0.3391 - acc: 0.8612\n",
            "Epoch 73/100\n",
            "8000/8000 [==============================] - 1s 95us/step - loss: 0.3385 - acc: 0.8622\n",
            "Epoch 74/100\n",
            "8000/8000 [==============================] - 1s 94us/step - loss: 0.3388 - acc: 0.8606\n",
            "Epoch 75/100\n",
            "8000/8000 [==============================] - 1s 98us/step - loss: 0.3383 - acc: 0.8612\n",
            "Epoch 76/100\n",
            "8000/8000 [==============================] - 1s 100us/step - loss: 0.3393 - acc: 0.8611\n",
            "Epoch 77/100\n",
            "8000/8000 [==============================] - 1s 94us/step - loss: 0.3390 - acc: 0.8619\n",
            "Epoch 78/100\n",
            "8000/8000 [==============================] - 1s 95us/step - loss: 0.3387 - acc: 0.8594\n",
            "Epoch 79/100\n",
            "8000/8000 [==============================] - 1s 97us/step - loss: 0.3386 - acc: 0.8601\n",
            "Epoch 80/100\n",
            "8000/8000 [==============================] - 1s 101us/step - loss: 0.3391 - acc: 0.8610\n",
            "Epoch 81/100\n",
            "8000/8000 [==============================] - 1s 105us/step - loss: 0.3381 - acc: 0.8600\n",
            "Epoch 82/100\n",
            "8000/8000 [==============================] - 1s 101us/step - loss: 0.3388 - acc: 0.8619\n",
            "Epoch 83/100\n",
            "8000/8000 [==============================] - 1s 104us/step - loss: 0.3390 - acc: 0.8589\n",
            "Epoch 84/100\n",
            "8000/8000 [==============================] - 1s 103us/step - loss: 0.3380 - acc: 0.8592\n",
            "Epoch 85/100\n",
            "8000/8000 [==============================] - 1s 100us/step - loss: 0.3388 - acc: 0.8606\n",
            "Epoch 86/100\n",
            "8000/8000 [==============================] - 1s 99us/step - loss: 0.3388 - acc: 0.8615\n",
            "Epoch 87/100\n",
            "8000/8000 [==============================] - 1s 96us/step - loss: 0.3384 - acc: 0.8612\n",
            "Epoch 88/100\n",
            "8000/8000 [==============================] - 1s 97us/step - loss: 0.3379 - acc: 0.8606\n",
            "Epoch 89/100\n",
            "8000/8000 [==============================] - 1s 95us/step - loss: 0.3383 - acc: 0.8599\n",
            "Epoch 90/100\n",
            "8000/8000 [==============================] - 1s 97us/step - loss: 0.3388 - acc: 0.8615\n",
            "Epoch 91/100\n",
            "8000/8000 [==============================] - 1s 94us/step - loss: 0.3385 - acc: 0.8609\n",
            "Epoch 92/100\n",
            "8000/8000 [==============================] - 1s 94us/step - loss: 0.3391 - acc: 0.8614\n",
            "Epoch 93/100\n",
            "8000/8000 [==============================] - 1s 97us/step - loss: 0.3380 - acc: 0.8626\n",
            "Epoch 94/100\n",
            "8000/8000 [==============================] - 1s 93us/step - loss: 0.3390 - acc: 0.8601\n",
            "Epoch 95/100\n",
            "8000/8000 [==============================] - 1s 95us/step - loss: 0.3384 - acc: 0.8600\n",
            "Epoch 96/100\n",
            "8000/8000 [==============================] - 1s 97us/step - loss: 0.3379 - acc: 0.8607\n",
            "Epoch 97/100\n",
            "8000/8000 [==============================] - 1s 93us/step - loss: 0.3388 - acc: 0.8610\n",
            "Epoch 98/100\n",
            "8000/8000 [==============================] - 1s 97us/step - loss: 0.3388 - acc: 0.8624\n",
            "Epoch 99/100\n",
            "8000/8000 [==============================] - 1s 95us/step - loss: 0.3376 - acc: 0.8629\n",
            "Epoch 100/100\n",
            "8000/8000 [==============================] - 1s 96us/step - loss: 0.3378 - acc: 0.8591\n"
          ],
          "name": "stdout"
        },
        {
          "output_type": "execute_result",
          "data": {
            "text/plain": [
              "<keras.callbacks.History at 0x7f7c61e30940>"
            ]
          },
          "metadata": {
            "tags": []
          },
          "execution_count": 42
        }
      ]
    },
    {
      "metadata": {
        "id": "k8lSFcy04sTM",
        "colab_type": "text"
      },
      "cell_type": "markdown",
      "source": [
        "###Part 3 - Making the predictions and evaluating the model"
      ]
    },
    {
      "metadata": {
        "id": "J1VR3pMEbwir",
        "colab_type": "code",
        "colab": {}
      },
      "cell_type": "code",
      "source": [
        "y_pred = classifier.predict(X_test)\n",
        "y_pred = (y_pred > 0.5)\n",
        "\n",
        "# Making the confusion matrix\n",
        "from sklearn.metrics import confusion_matrix\n",
        "\n",
        "cm = confusion_matrix(y_test, y_pred)"
      ],
      "execution_count": 0,
      "outputs": []
    },
    {
      "metadata": {
        "id": "rASbye1xc2yX",
        "colab_type": "code",
        "colab": {
          "base_uri": "https://localhost:8080/",
          "height": 51
        },
        "outputId": "e0c40f90-cfb9-4eb1-f28e-522ece644470"
      },
      "cell_type": "code",
      "source": [
        "cm"
      ],
      "execution_count": 58,
      "outputs": [
        {
          "output_type": "execute_result",
          "data": {
            "text/plain": [
              "array([[1529,   66],\n",
              "       [ 208,  197]])"
            ]
          },
          "metadata": {
            "tags": []
          },
          "execution_count": 58
        }
      ]
    }
  ]
}